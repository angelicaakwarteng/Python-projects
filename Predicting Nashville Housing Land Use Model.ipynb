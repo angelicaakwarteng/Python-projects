{
 "cells": [
  {
   "cell_type": "markdown",
   "id": "657de791",
   "metadata": {},
   "source": [
    "# Predicting Nashville Housing Land Use\n",
    "This project is to create a prediction model for a real estate client of Nashville housing to predict the land use based on certain key features specified by prospective residents.\n",
    "Refer to documentation for further details."
   ]
  },
  {
   "cell_type": "code",
   "execution_count": 1,
   "id": "56b515ff",
   "metadata": {},
   "outputs": [],
   "source": [
    "#importing libraries\n",
    "import pandas as pd\n",
    "import numpy as np\n",
    "import matplotlib.pyplot as plt\n",
    "from sklearn.model_selection import train_test_split\n",
    "from sklearn.tree import DecisionTreeClassifier, plot_tree\n",
    "import warnings\n",
    "warnings.filterwarnings(\"ignore\")"
   ]
  },
  {
   "cell_type": "code",
   "execution_count": 2,
   "id": "de2ccf56",
   "metadata": {},
   "outputs": [
    {
     "data": {
      "text/html": [
       "<div>\n",
       "<style scoped>\n",
       "    .dataframe tbody tr th:only-of-type {\n",
       "        vertical-align: middle;\n",
       "    }\n",
       "\n",
       "    .dataframe tbody tr th {\n",
       "        vertical-align: top;\n",
       "    }\n",
       "\n",
       "    .dataframe thead th {\n",
       "        text-align: right;\n",
       "    }\n",
       "</style>\n",
       "<table border=\"1\" class=\"dataframe\">\n",
       "  <thead>\n",
       "    <tr style=\"text-align: right;\">\n",
       "      <th></th>\n",
       "      <th>UniqueID</th>\n",
       "      <th>ParcelID</th>\n",
       "      <th>LandUse</th>\n",
       "      <th>PropertyAddress</th>\n",
       "      <th>SaleDate</th>\n",
       "      <th>Sale Price</th>\n",
       "      <th>LegalReference</th>\n",
       "      <th>SoldAsVacant</th>\n",
       "      <th>OwnerName</th>\n",
       "      <th>OwnerAddress</th>\n",
       "      <th>Acreage</th>\n",
       "      <th>TaxDistrict</th>\n",
       "      <th>LandValue</th>\n",
       "      <th>BuildingValue</th>\n",
       "      <th>TotalValue</th>\n",
       "      <th>YearBuilt</th>\n",
       "      <th>Bedrooms</th>\n",
       "      <th>FullBath</th>\n",
       "      <th>HalfBath</th>\n",
       "    </tr>\n",
       "  </thead>\n",
       "  <tbody>\n",
       "    <tr>\n",
       "      <th>0</th>\n",
       "      <td>2045</td>\n",
       "      <td>007 00 0 125.00</td>\n",
       "      <td>SINGLE FAMILY</td>\n",
       "      <td>1808  FOX CHASE DR, GOODLETTSVILLE</td>\n",
       "      <td>9-Apr-13</td>\n",
       "      <td>240000</td>\n",
       "      <td>20130412-0036474</td>\n",
       "      <td>No</td>\n",
       "      <td>FRAZIER, CYRENTHA LYNETTE</td>\n",
       "      <td>1808  FOX CHASE DR, GOODLETTSVILLE, TN</td>\n",
       "      <td>2.3</td>\n",
       "      <td>GENERAL SERVICES DISTRICT</td>\n",
       "      <td>50000.0</td>\n",
       "      <td>168200.0</td>\n",
       "      <td>235700.0</td>\n",
       "      <td>1986.0</td>\n",
       "      <td>3.0</td>\n",
       "      <td>3.0</td>\n",
       "      <td>0.0</td>\n",
       "    </tr>\n",
       "    <tr>\n",
       "      <th>1</th>\n",
       "      <td>16918</td>\n",
       "      <td>007 00 0 130.00</td>\n",
       "      <td>SINGLE FAMILY</td>\n",
       "      <td>1832  FOX CHASE DR, GOODLETTSVILLE</td>\n",
       "      <td>10-Jun-14</td>\n",
       "      <td>366000</td>\n",
       "      <td>20140619-0053768</td>\n",
       "      <td>No</td>\n",
       "      <td>BONER, CHARLES &amp; LESLIE</td>\n",
       "      <td>1832  FOX CHASE DR, GOODLETTSVILLE, TN</td>\n",
       "      <td>3.5</td>\n",
       "      <td>GENERAL SERVICES DISTRICT</td>\n",
       "      <td>50000.0</td>\n",
       "      <td>264100.0</td>\n",
       "      <td>319000.0</td>\n",
       "      <td>1998.0</td>\n",
       "      <td>3.0</td>\n",
       "      <td>3.0</td>\n",
       "      <td>2.0</td>\n",
       "    </tr>\n",
       "    <tr>\n",
       "      <th>2</th>\n",
       "      <td>54582</td>\n",
       "      <td>007 00 0 138.00</td>\n",
       "      <td>SINGLE FAMILY</td>\n",
       "      <td>1864 FOX CHASE  DR, GOODLETTSVILLE</td>\n",
       "      <td>26-Sep-16</td>\n",
       "      <td>435000</td>\n",
       "      <td>20160927-0101718</td>\n",
       "      <td>No</td>\n",
       "      <td>WILSON, JAMES E. &amp; JOANNE</td>\n",
       "      <td>1864  FOX CHASE DR, GOODLETTSVILLE, TN</td>\n",
       "      <td>2.9</td>\n",
       "      <td>GENERAL SERVICES DISTRICT</td>\n",
       "      <td>50000.0</td>\n",
       "      <td>216200.0</td>\n",
       "      <td>298000.0</td>\n",
       "      <td>1987.0</td>\n",
       "      <td>4.0</td>\n",
       "      <td>3.0</td>\n",
       "      <td>0.0</td>\n",
       "    </tr>\n",
       "    <tr>\n",
       "      <th>3</th>\n",
       "      <td>43070</td>\n",
       "      <td>007 00 0 143.00</td>\n",
       "      <td>SINGLE FAMILY</td>\n",
       "      <td>1853  FOX CHASE DR, GOODLETTSVILLE</td>\n",
       "      <td>29-Jan-16</td>\n",
       "      <td>255000</td>\n",
       "      <td>20160129-0008913</td>\n",
       "      <td>No</td>\n",
       "      <td>BAKER, JAY K. &amp; SUSAN E.</td>\n",
       "      <td>1853  FOX CHASE DR, GOODLETTSVILLE, TN</td>\n",
       "      <td>2.6</td>\n",
       "      <td>GENERAL SERVICES DISTRICT</td>\n",
       "      <td>50000.0</td>\n",
       "      <td>147300.0</td>\n",
       "      <td>197300.0</td>\n",
       "      <td>1985.0</td>\n",
       "      <td>3.0</td>\n",
       "      <td>3.0</td>\n",
       "      <td>0.0</td>\n",
       "    </tr>\n",
       "    <tr>\n",
       "      <th>4</th>\n",
       "      <td>22714</td>\n",
       "      <td>007 00 0 149.00</td>\n",
       "      <td>SINGLE FAMILY</td>\n",
       "      <td>1829  FOX CHASE DR, GOODLETTSVILLE</td>\n",
       "      <td>10-Oct-14</td>\n",
       "      <td>278000</td>\n",
       "      <td>20141015-0095255</td>\n",
       "      <td>No</td>\n",
       "      <td>POST, CHRISTOPHER M. &amp; SAMANTHA C.</td>\n",
       "      <td>1829  FOX CHASE DR, GOODLETTSVILLE, TN</td>\n",
       "      <td>2.0</td>\n",
       "      <td>GENERAL SERVICES DISTRICT</td>\n",
       "      <td>50000.0</td>\n",
       "      <td>152300.0</td>\n",
       "      <td>202300.0</td>\n",
       "      <td>1984.0</td>\n",
       "      <td>4.0</td>\n",
       "      <td>3.0</td>\n",
       "      <td>0.0</td>\n",
       "    </tr>\n",
       "  </tbody>\n",
       "</table>\n",
       "</div>"
      ],
      "text/plain": [
       "   UniqueID          ParcelID        LandUse  \\\n",
       "0       2045  007 00 0 125.00  SINGLE FAMILY   \n",
       "1      16918  007 00 0 130.00  SINGLE FAMILY   \n",
       "2      54582  007 00 0 138.00  SINGLE FAMILY   \n",
       "3      43070  007 00 0 143.00  SINGLE FAMILY   \n",
       "4      22714  007 00 0 149.00  SINGLE FAMILY   \n",
       "\n",
       "                      PropertyAddress   SaleDate Sale Price    LegalReference  \\\n",
       "0  1808  FOX CHASE DR, GOODLETTSVILLE   9-Apr-13     240000  20130412-0036474   \n",
       "1  1832  FOX CHASE DR, GOODLETTSVILLE  10-Jun-14     366000  20140619-0053768   \n",
       "2  1864 FOX CHASE  DR, GOODLETTSVILLE  26-Sep-16     435000  20160927-0101718   \n",
       "3  1853  FOX CHASE DR, GOODLETTSVILLE  29-Jan-16     255000  20160129-0008913   \n",
       "4  1829  FOX CHASE DR, GOODLETTSVILLE  10-Oct-14     278000  20141015-0095255   \n",
       "\n",
       "  SoldAsVacant                           OwnerName  \\\n",
       "0           No           FRAZIER, CYRENTHA LYNETTE   \n",
       "1           No             BONER, CHARLES & LESLIE   \n",
       "2           No           WILSON, JAMES E. & JOANNE   \n",
       "3           No            BAKER, JAY K. & SUSAN E.   \n",
       "4           No  POST, CHRISTOPHER M. & SAMANTHA C.   \n",
       "\n",
       "                             OwnerAddress  Acreage                TaxDistrict  \\\n",
       "0  1808  FOX CHASE DR, GOODLETTSVILLE, TN      2.3  GENERAL SERVICES DISTRICT   \n",
       "1  1832  FOX CHASE DR, GOODLETTSVILLE, TN      3.5  GENERAL SERVICES DISTRICT   \n",
       "2  1864  FOX CHASE DR, GOODLETTSVILLE, TN      2.9  GENERAL SERVICES DISTRICT   \n",
       "3  1853  FOX CHASE DR, GOODLETTSVILLE, TN      2.6  GENERAL SERVICES DISTRICT   \n",
       "4  1829  FOX CHASE DR, GOODLETTSVILLE, TN      2.0  GENERAL SERVICES DISTRICT   \n",
       "\n",
       "   LandValue  BuildingValue  TotalValue  YearBuilt  Bedrooms  FullBath  \\\n",
       "0    50000.0       168200.0    235700.0     1986.0       3.0       3.0   \n",
       "1    50000.0       264100.0    319000.0     1998.0       3.0       3.0   \n",
       "2    50000.0       216200.0    298000.0     1987.0       4.0       3.0   \n",
       "3    50000.0       147300.0    197300.0     1985.0       3.0       3.0   \n",
       "4    50000.0       152300.0    202300.0     1984.0       4.0       3.0   \n",
       "\n",
       "   HalfBath  \n",
       "0       0.0  \n",
       "1       2.0  \n",
       "2       0.0  \n",
       "3       0.0  \n",
       "4       0.0  "
      ]
     },
     "execution_count": 2,
     "metadata": {},
     "output_type": "execute_result"
    }
   ],
   "source": [
    "#loading dataset\n",
    "df = pd.read_csv('Nashville Housing.csv')\n",
    "df.head(5)"
   ]
  },
  {
   "cell_type": "markdown",
   "id": "858eb5d7",
   "metadata": {},
   "source": [
    "# Exploratory Analysis\n",
    "\n",
    "\n",
    "#### Inspecting Data"
   ]
  },
  {
   "cell_type": "code",
   "execution_count": 3,
   "id": "76a473dc",
   "metadata": {},
   "outputs": [
    {
     "data": {
      "text/plain": [
       "(56477, 19)"
      ]
     },
     "execution_count": 3,
     "metadata": {},
     "output_type": "execute_result"
    }
   ],
   "source": [
    "#how many rows and columns has our dataset\n",
    "df.shape"
   ]
  },
  {
   "cell_type": "code",
   "execution_count": 4,
   "id": "05c1970c",
   "metadata": {},
   "outputs": [
    {
     "data": {
      "text/html": [
       "<div>\n",
       "<style scoped>\n",
       "    .dataframe tbody tr th:only-of-type {\n",
       "        vertical-align: middle;\n",
       "    }\n",
       "\n",
       "    .dataframe tbody tr th {\n",
       "        vertical-align: top;\n",
       "    }\n",
       "\n",
       "    .dataframe thead th {\n",
       "        text-align: right;\n",
       "    }\n",
       "</style>\n",
       "<table border=\"1\" class=\"dataframe\">\n",
       "  <thead>\n",
       "    <tr style=\"text-align: right;\">\n",
       "      <th></th>\n",
       "      <th>UniqueID</th>\n",
       "      <th>Acreage</th>\n",
       "      <th>LandValue</th>\n",
       "      <th>BuildingValue</th>\n",
       "      <th>TotalValue</th>\n",
       "      <th>YearBuilt</th>\n",
       "      <th>Bedrooms</th>\n",
       "      <th>FullBath</th>\n",
       "      <th>HalfBath</th>\n",
       "    </tr>\n",
       "  </thead>\n",
       "  <tbody>\n",
       "    <tr>\n",
       "      <th>count</th>\n",
       "      <td>56477.000000</td>\n",
       "      <td>26015.000000</td>\n",
       "      <td>2.601500e+04</td>\n",
       "      <td>2.601500e+04</td>\n",
       "      <td>2.601500e+04</td>\n",
       "      <td>24163.000000</td>\n",
       "      <td>24157.000000</td>\n",
       "      <td>24275.000000</td>\n",
       "      <td>24144.000000</td>\n",
       "    </tr>\n",
       "    <tr>\n",
       "      <th>mean</th>\n",
       "      <td>28334.001133</td>\n",
       "      <td>0.498923</td>\n",
       "      <td>6.906856e+04</td>\n",
       "      <td>1.607847e+05</td>\n",
       "      <td>2.323754e+05</td>\n",
       "      <td>1963.744899</td>\n",
       "      <td>3.089912</td>\n",
       "      <td>1.886014</td>\n",
       "      <td>0.283921</td>\n",
       "    </tr>\n",
       "    <tr>\n",
       "      <th>std</th>\n",
       "      <td>16352.590651</td>\n",
       "      <td>1.570454</td>\n",
       "      <td>1.060401e+05</td>\n",
       "      <td>2.067999e+05</td>\n",
       "      <td>2.810643e+05</td>\n",
       "      <td>26.542982</td>\n",
       "      <td>0.852869</td>\n",
       "      <td>0.961515</td>\n",
       "      <td>0.487881</td>\n",
       "    </tr>\n",
       "    <tr>\n",
       "      <th>min</th>\n",
       "      <td>0.000000</td>\n",
       "      <td>0.010000</td>\n",
       "      <td>1.000000e+02</td>\n",
       "      <td>0.000000e+00</td>\n",
       "      <td>1.000000e+02</td>\n",
       "      <td>1799.000000</td>\n",
       "      <td>0.000000</td>\n",
       "      <td>0.000000</td>\n",
       "      <td>0.000000</td>\n",
       "    </tr>\n",
       "    <tr>\n",
       "      <th>25%</th>\n",
       "      <td>14186.000000</td>\n",
       "      <td>0.180000</td>\n",
       "      <td>2.100000e+04</td>\n",
       "      <td>7.590000e+04</td>\n",
       "      <td>1.028000e+05</td>\n",
       "      <td>1948.000000</td>\n",
       "      <td>3.000000</td>\n",
       "      <td>1.000000</td>\n",
       "      <td>0.000000</td>\n",
       "    </tr>\n",
       "    <tr>\n",
       "      <th>50%</th>\n",
       "      <td>28313.000000</td>\n",
       "      <td>0.270000</td>\n",
       "      <td>2.880000e+04</td>\n",
       "      <td>1.114000e+05</td>\n",
       "      <td>1.485000e+05</td>\n",
       "      <td>1960.000000</td>\n",
       "      <td>3.000000</td>\n",
       "      <td>2.000000</td>\n",
       "      <td>0.000000</td>\n",
       "    </tr>\n",
       "    <tr>\n",
       "      <th>75%</th>\n",
       "      <td>42513.000000</td>\n",
       "      <td>0.450000</td>\n",
       "      <td>6.000000e+04</td>\n",
       "      <td>1.807000e+05</td>\n",
       "      <td>2.683500e+05</td>\n",
       "      <td>1983.000000</td>\n",
       "      <td>3.000000</td>\n",
       "      <td>2.000000</td>\n",
       "      <td>1.000000</td>\n",
       "    </tr>\n",
       "    <tr>\n",
       "      <th>max</th>\n",
       "      <td>56635.000000</td>\n",
       "      <td>160.060000</td>\n",
       "      <td>2.772000e+06</td>\n",
       "      <td>1.297180e+07</td>\n",
       "      <td>1.394040e+07</td>\n",
       "      <td>2017.000000</td>\n",
       "      <td>11.000000</td>\n",
       "      <td>10.000000</td>\n",
       "      <td>3.000000</td>\n",
       "    </tr>\n",
       "  </tbody>\n",
       "</table>\n",
       "</div>"
      ],
      "text/plain": [
       "          UniqueID        Acreage     LandValue  BuildingValue    TotalValue  \\\n",
       "count  56477.000000  26015.000000  2.601500e+04   2.601500e+04  2.601500e+04   \n",
       "mean   28334.001133      0.498923  6.906856e+04   1.607847e+05  2.323754e+05   \n",
       "std    16352.590651      1.570454  1.060401e+05   2.067999e+05  2.810643e+05   \n",
       "min        0.000000      0.010000  1.000000e+02   0.000000e+00  1.000000e+02   \n",
       "25%    14186.000000      0.180000  2.100000e+04   7.590000e+04  1.028000e+05   \n",
       "50%    28313.000000      0.270000  2.880000e+04   1.114000e+05  1.485000e+05   \n",
       "75%    42513.000000      0.450000  6.000000e+04   1.807000e+05  2.683500e+05   \n",
       "max    56635.000000    160.060000  2.772000e+06   1.297180e+07  1.394040e+07   \n",
       "\n",
       "          YearBuilt      Bedrooms      FullBath      HalfBath  \n",
       "count  24163.000000  24157.000000  24275.000000  24144.000000  \n",
       "mean    1963.744899      3.089912      1.886014      0.283921  \n",
       "std       26.542982      0.852869      0.961515      0.487881  \n",
       "min     1799.000000      0.000000      0.000000      0.000000  \n",
       "25%     1948.000000      3.000000      1.000000      0.000000  \n",
       "50%     1960.000000      3.000000      2.000000      0.000000  \n",
       "75%     1983.000000      3.000000      2.000000      1.000000  \n",
       "max     2017.000000     11.000000     10.000000      3.000000  "
      ]
     },
     "execution_count": 4,
     "metadata": {},
     "output_type": "execute_result"
    }
   ],
   "source": [
    "df.describe()"
   ]
  },
  {
   "cell_type": "code",
   "execution_count": 5,
   "id": "addca1cb",
   "metadata": {},
   "outputs": [
    {
     "data": {
      "text/plain": [
       "3.0     12877\n",
       "2.0      5104\n",
       "4.0      4856\n",
       "5.0       870\n",
       "6.0       243\n",
       "1.0       102\n",
       "0.0        43\n",
       "7.0        35\n",
       "8.0        22\n",
       "9.0         2\n",
       "10.0        2\n",
       "11.0        1\n",
       "Name: Bedrooms, dtype: int64"
      ]
     },
     "execution_count": 5,
     "metadata": {},
     "output_type": "execute_result"
    }
   ],
   "source": [
    "df['Bedrooms'].value_counts()"
   ]
  },
  {
   "cell_type": "code",
   "execution_count": 6,
   "id": "0fa3e6fa",
   "metadata": {},
   "outputs": [
    {
     "data": {
      "text/plain": [
       "SINGLE FAMILY                                 34197\n",
       "RESIDENTIAL CONDO                             14080\n",
       "VACANT RESIDENTIAL LAND                        3547\n",
       "VACANT RES LAND                                1549\n",
       "DUPLEX                                         1373\n",
       "ZERO LOT LINE                                  1048\n",
       "CONDO                                           247\n",
       "RESIDENTIAL COMBO/MISC                           95\n",
       "TRIPLEX                                          92\n",
       "QUADPLEX                                         39\n",
       "CONDOMINIUM OFC  OR OTHER COM CONDO              35\n",
       "CHURCH                                           34\n",
       "MOBILE HOME                                      20\n",
       "DORMITORY/BOARDING HOUSE                         19\n",
       "SPLIT CLASS                                      17\n",
       "VACANT COMMERCIAL LAND                           17\n",
       "PARKING LOT                                      11\n",
       "GREENBELT                                        10\n",
       "FOREST                                           10\n",
       "PARSONAGE                                         6\n",
       "VACANT RESIENTIAL LAND                            3\n",
       "GREENBELT/RES\\r\\nGRRENBELT/RES                    3\n",
       "TERMINAL/DISTRIBUTION WAREHOUSE                   2\n",
       "NON-PROFIT CHARITABLE SERVICE                     2\n",
       "APARTMENT: LOW RISE (BUILT SINCE 1960)            2\n",
       "RESTURANT/CAFETERIA                               2\n",
       "OFFICE BLDG (ONE OR TWO STORIES)                  2\n",
       "DAY CARE CENTER                                   2\n",
       "VACANT RURAL LAND                                 2\n",
       "VACANT ZONED MULTI FAMILY                         2\n",
       "METRO OTHER THAN OFC, SCHOOL,HOSP, OR PARK        1\n",
       "NIGHTCLUB/LOUNGE                                  1\n",
       "CONVENIENCE MARKET WITHOUT GAS                    1\n",
       "LIGHT MANUFACTURING                               1\n",
       "STRIP SHOPPING CENTER                             1\n",
       "ONE STORY GENERAL RETAIL STORE                    1\n",
       "CLUB/UNION HALL/LODGE                             1\n",
       "SMALL SERVICE SHOP                                1\n",
       "MORTUARY/CEMETERY                                 1\n",
       "Name: LandUse, dtype: int64"
      ]
     },
     "execution_count": 6,
     "metadata": {},
     "output_type": "execute_result"
    }
   ],
   "source": [
    "df['LandUse'].value_counts()"
   ]
  },
  {
   "cell_type": "code",
   "execution_count": 7,
   "id": "7dbb5d8b",
   "metadata": {},
   "outputs": [
    {
     "name": "stdout",
     "output_type": "stream",
     "text": [
      "<class 'pandas.core.frame.DataFrame'>\n",
      "RangeIndex: 56477 entries, 0 to 56476\n",
      "Data columns (total 19 columns):\n",
      " #   Column           Non-Null Count  Dtype  \n",
      "---  ------           --------------  -----  \n",
      " 0   UniqueID         56477 non-null  int64  \n",
      " 1   ParcelID         56477 non-null  object \n",
      " 2   LandUse          56477 non-null  object \n",
      " 3   PropertyAddress  56448 non-null  object \n",
      " 4   SaleDate         56477 non-null  object \n",
      " 5   Sale Price       56477 non-null  object \n",
      " 6   LegalReference   56477 non-null  object \n",
      " 7   SoldAsVacant     56477 non-null  object \n",
      " 8   OwnerName        25261 non-null  object \n",
      " 9   OwnerAddress     26015 non-null  object \n",
      " 10  Acreage          26015 non-null  float64\n",
      " 11  TaxDistrict      26015 non-null  object \n",
      " 12  LandValue        26015 non-null  float64\n",
      " 13  BuildingValue    26015 non-null  float64\n",
      " 14  TotalValue       26015 non-null  float64\n",
      " 15  YearBuilt        24163 non-null  float64\n",
      " 16  Bedrooms         24157 non-null  float64\n",
      " 17  FullBath         24275 non-null  float64\n",
      " 18  HalfBath         24144 non-null  float64\n",
      "dtypes: float64(8), int64(1), object(10)\n",
      "memory usage: 8.2+ MB\n"
     ]
    }
   ],
   "source": [
    "#checking for more info.\n",
    "df.info()"
   ]
  },
  {
   "cell_type": "code",
   "execution_count": 8,
   "id": "1f97e6ff",
   "metadata": {},
   "outputs": [
    {
     "data": {
      "text/plain": [
       "2823.8500000000004"
      ]
     },
     "execution_count": 8,
     "metadata": {},
     "output_type": "execute_result"
    }
   ],
   "source": [
    "#using a threshold of 5%, if missing values < threshold, drop\n",
    "threshold = len(df)* 0.05\n",
    "threshold"
   ]
  },
  {
   "cell_type": "code",
   "execution_count": 9,
   "id": "175570f7",
   "metadata": {},
   "outputs": [
    {
     "data": {
      "text/plain": [
       "UniqueID               0\n",
       "ParcelID               0\n",
       "LandUse                0\n",
       "PropertyAddress       29\n",
       "SaleDate               0\n",
       "Sale Price             0\n",
       "LegalReference         0\n",
       "SoldAsVacant           0\n",
       "OwnerName          31216\n",
       "OwnerAddress       30462\n",
       "Acreage            30462\n",
       "TaxDistrict        30462\n",
       "LandValue          30462\n",
       "BuildingValue      30462\n",
       "TotalValue         30462\n",
       "YearBuilt          32314\n",
       "Bedrooms           32320\n",
       "FullBath           32202\n",
       "HalfBath           32333\n",
       "dtype: int64"
      ]
     },
     "execution_count": 9,
     "metadata": {},
     "output_type": "execute_result"
    }
   ],
   "source": [
    "#checking for nulls\n",
    "df.isnull().sum()"
   ]
  },
  {
   "cell_type": "code",
   "execution_count": 10,
   "id": "1b37535d",
   "metadata": {},
   "outputs": [
    {
     "data": {
      "text/plain": [
       "array([False])"
      ]
     },
     "execution_count": 10,
     "metadata": {},
     "output_type": "execute_result"
    }
   ],
   "source": [
    "#checking for duplicates\n",
    "df.duplicated().unique()   #no duplicates"
   ]
  },
  {
   "cell_type": "markdown",
   "id": "53d19124",
   "metadata": {},
   "source": [
    "The null values exceed the threshold hence cannot drop, fill nulls."
   ]
  },
  {
   "cell_type": "code",
   "execution_count": 11,
   "id": "5a1e9790",
   "metadata": {},
   "outputs": [
    {
     "data": {
      "text/plain": [
       "0.0         1852\n",
       "88000.0       37\n",
       "70000.0       35\n",
       "86300.0       34\n",
       "98900.0       33\n",
       "            ... \n",
       "500600.0       1\n",
       "502200.0       1\n",
       "511700.0       1\n",
       "724700.0       1\n",
       "519900.0       1\n",
       "Name: BuildingValue, Length: 4405, dtype: int64"
      ]
     },
     "execution_count": 11,
     "metadata": {},
     "output_type": "execute_result"
    }
   ],
   "source": [
    "#checking Building values\n",
    "df['BuildingValue'].value_counts()"
   ]
  },
  {
   "cell_type": "code",
   "execution_count": 12,
   "id": "bbca2485",
   "metadata": {},
   "outputs": [
    {
     "data": {
      "text/plain": [
       "0.17      1859\n",
       "0.18      1194\n",
       "0.20      1019\n",
       "0.23       955\n",
       "0.22       822\n",
       "          ... \n",
       "2.66         1\n",
       "5.72         1\n",
       "5.70         1\n",
       "6.10         1\n",
       "160.06       1\n",
       "Name: Acreage, Length: 519, dtype: int64"
      ]
     },
     "execution_count": 12,
     "metadata": {},
     "output_type": "execute_result"
    }
   ],
   "source": [
    "#checking acreage values\n",
    "df['Acreage'].value_counts()"
   ]
  },
  {
   "cell_type": "code",
   "execution_count": 13,
   "id": "c678d1fa",
   "metadata": {},
   "outputs": [
    {
     "data": {
      "text/plain": [
       "11000.0      173\n",
       "25000.0       93\n",
       "40000.0       83\n",
       "13000.0       79\n",
       "20000.0       73\n",
       "            ... \n",
       "257800.0       1\n",
       "342300.0       1\n",
       "343100.0       1\n",
       "339500.0       1\n",
       "1921700.0      1\n",
       "Name: TotalValue, Length: 5848, dtype: int64"
      ]
     },
     "execution_count": 13,
     "metadata": {},
     "output_type": "execute_result"
    }
   ],
   "source": [
    "#checking values for TotalValue\n",
    "df['TotalValue'].value_counts()"
   ]
  },
  {
   "cell_type": "code",
   "execution_count": 14,
   "id": "b8d8ba08",
   "metadata": {},
   "outputs": [
    {
     "data": {
      "text/plain": [
       "25000.0      1533\n",
       "26000.0      1038\n",
       "27000.0       887\n",
       "30000.0       849\n",
       "18000.0       812\n",
       "             ... \n",
       "201200.0        1\n",
       "196900.0        1\n",
       "183200.0        1\n",
       "24100.0         1\n",
       "1921700.0       1\n",
       "Name: LandValue, Length: 1122, dtype: int64"
      ]
     },
     "execution_count": 14,
     "metadata": {},
     "output_type": "execute_result"
    }
   ],
   "source": [
    "# #checking values for landvalue\n",
    "df['LandValue'].value_counts()"
   ]
  },
  {
   "cell_type": "code",
   "execution_count": 15,
   "id": "39deb74b",
   "metadata": {},
   "outputs": [
    {
     "data": {
      "text/plain": [
       "array([1986., 1998., 1987., 1985., 1984., 1980., 1976., 1978., 2000.,\n",
       "       1995.,   nan, 2006., 1974., 1997., 1989., 1988., 1982., 1983.,\n",
       "       1979., 1973., 1964., 1967., 1972., 1996., 1993., 1959., 1948.,\n",
       "       2014., 1968., 1969., 1966., 1960., 1961., 1962., 1965., 1957.,\n",
       "       2015., 1977., 1970., 1991., 1930., 1971., 1953., 1943., 1945.,\n",
       "       1935., 1938., 1950., 1954., 1963., 1958., 2008., 1955., 1956.,\n",
       "       1992., 1952., 2004., 2003., 1933., 1975., 1899., 1941., 1990.,\n",
       "       1946., 1940., 2016., 1951., 1981., 1994., 2005., 1999., 2001.,\n",
       "       2002., 1939., 1900., 2013., 1880., 1947., 1918., 1920., 1925.,\n",
       "       1917., 1937., 1926., 1931., 2011., 2007., 2009., 1934., 1936.,\n",
       "       1928., 1929., 1927., 1932., 1924., 1923., 1949., 1944., 2012.,\n",
       "       2010., 1942., 1910., 1915., 1903., 1919., 1890., 1922., 1908.,\n",
       "       1912., 1921., 1907., 1909., 1799., 1911., 1904., 1906., 1893.,\n",
       "       1905., 1870., 1916., 1902., 1894., 1901., 1832., 2017., 1914.,\n",
       "       1913.])"
      ]
     },
     "execution_count": 15,
     "metadata": {},
     "output_type": "execute_result"
    }
   ],
   "source": [
    "#checking year in which the buildings were built\n",
    "df['YearBuilt'].unique()"
   ]
  },
  {
   "cell_type": "markdown",
   "id": "451d9ca4",
   "metadata": {},
   "source": [
    "### Data Preprocessing"
   ]
  },
  {
   "cell_type": "code",
   "execution_count": 16,
   "id": "2b062380",
   "metadata": {},
   "outputs": [
    {
     "data": {
      "text/plain": [
       "0        240000.0\n",
       "1        366000.0\n",
       "2        435000.0\n",
       "3        255000.0\n",
       "4        278000.0\n",
       "           ...   \n",
       "56472    157500.0\n",
       "56473    145000.0\n",
       "56474    234611.0\n",
       "56475     93844.0\n",
       "56476     93844.0\n",
       "Name: SalePrice, Length: 56477, dtype: float64"
      ]
     },
     "execution_count": 16,
     "metadata": {},
     "output_type": "execute_result"
    }
   ],
   "source": [
    "#converting sales price to float\n",
    "df['SalePrice'] = pd.to_numeric(df['Sale Price'], errors='coerce')\n",
    "df['SalePrice']"
   ]
  },
  {
   "cell_type": "code",
   "execution_count": 17,
   "id": "361d1ba2",
   "metadata": {},
   "outputs": [
    {
     "data": {
      "text/plain": [
       "28800.0"
      ]
     },
     "execution_count": 17,
     "metadata": {},
     "output_type": "execute_result"
    }
   ],
   "source": [
    "#using median to fill nulls for LandValue\n",
    "median_LandValue = df['LandValue'].median()\n",
    "median_LandValue"
   ]
  },
  {
   "cell_type": "code",
   "execution_count": 18,
   "id": "11bc9417",
   "metadata": {},
   "outputs": [
    {
     "data": {
      "text/plain": [
       "0.27"
      ]
     },
     "execution_count": 18,
     "metadata": {},
     "output_type": "execute_result"
    }
   ],
   "source": [
    "#Since acreage is a continuous column, I choose mode to fill nulls\n",
    "median_Acreage = df.Acreage.median()\n",
    "median_Acreage"
   ]
  },
  {
   "cell_type": "code",
   "execution_count": 19,
   "id": "9f64b96b",
   "metadata": {},
   "outputs": [
    {
     "data": {
      "text/plain": [
       "111400.0"
      ]
     },
     "execution_count": 19,
     "metadata": {},
     "output_type": "execute_result"
    }
   ],
   "source": [
    "#computing median for Building Values\n",
    "median_BuildingValue = df['BuildingValue'].median()\n",
    "median_BuildingValue"
   ]
  },
  {
   "cell_type": "markdown",
   "id": "5ca6be09",
   "metadata": {},
   "source": [
    "It's surprising that Buildings value had value zero dollars and had the highest value counts. Refer to data collection"
   ]
  },
  {
   "cell_type": "code",
   "execution_count": 20,
   "id": "7fa379de",
   "metadata": {},
   "outputs": [],
   "source": [
    "#computing median\n",
    "median_TotalValue = df['TotalValue'].median()"
   ]
  },
  {
   "cell_type": "code",
   "execution_count": 21,
   "id": "c06cd8fa",
   "metadata": {},
   "outputs": [],
   "source": [
    "#since it's about the year in which the building was built, mode will be the best option\n",
    "YearBuilt = df['YearBuilt'].mode()"
   ]
  },
  {
   "cell_type": "code",
   "execution_count": 22,
   "id": "cbc24e9d",
   "metadata": {},
   "outputs": [
    {
     "data": {
      "text/plain": [
       "3.0"
      ]
     },
     "execution_count": 22,
     "metadata": {},
     "output_type": "execute_result"
    }
   ],
   "source": [
    "median_Bedrooms = df['Bedrooms'].median()\n",
    "median_Bedrooms"
   ]
  },
  {
   "cell_type": "code",
   "execution_count": 23,
   "id": "19020bfc",
   "metadata": {},
   "outputs": [],
   "source": [
    "#computing median to fill in nulls\n",
    "median_FullBath = df['FullBath'].median()\n",
    "median_HalfBath = df['HalfBath'].median()\n",
    "median_SalePrice = df['SalePrice'].median()"
   ]
  },
  {
   "cell_type": "code",
   "execution_count": 24,
   "id": "056463d7",
   "metadata": {},
   "outputs": [],
   "source": [
    "#imputing values for columns with null values\n",
    "df.Acreage = df.Acreage.fillna(median_Acreage)"
   ]
  },
  {
   "cell_type": "code",
   "execution_count": 25,
   "id": "3789ed49",
   "metadata": {},
   "outputs": [],
   "source": [
    "df.LandValue = df['LandValue'].fillna(median_LandValue)"
   ]
  },
  {
   "cell_type": "code",
   "execution_count": 26,
   "id": "f130b72b",
   "metadata": {},
   "outputs": [],
   "source": [
    "df.BuildingValue = df['BuildingValue'].fillna(median_BuildingValue)"
   ]
  },
  {
   "cell_type": "code",
   "execution_count": 27,
   "id": "045b050f",
   "metadata": {},
   "outputs": [],
   "source": [
    "df.TotalValue = df['TotalValue'].fillna(median_TotalValue)\n",
    "df.SalePrice = df['SalePrice'].fillna(median_SalePrice)"
   ]
  },
  {
   "cell_type": "code",
   "execution_count": 28,
   "id": "f35bf770",
   "metadata": {},
   "outputs": [],
   "source": [
    "df.YearBuilt = df['YearBuilt'].fillna(YearBuilt)"
   ]
  },
  {
   "cell_type": "code",
   "execution_count": 29,
   "id": "b7576556",
   "metadata": {},
   "outputs": [],
   "source": [
    "df.Bedrooms = df.Bedrooms.fillna(median_Bedrooms)"
   ]
  },
  {
   "cell_type": "code",
   "execution_count": 30,
   "id": "dc53afa2",
   "metadata": {},
   "outputs": [],
   "source": [
    "df.FullBath = df['FullBath'].fillna(median_FullBath)"
   ]
  },
  {
   "cell_type": "code",
   "execution_count": 31,
   "id": "8d641a17",
   "metadata": {},
   "outputs": [],
   "source": [
    "df.HalfBath = df['HalfBath'].fillna(median_HalfBath)"
   ]
  },
  {
   "cell_type": "code",
   "execution_count": 32,
   "id": "797fb3d7",
   "metadata": {},
   "outputs": [
    {
     "data": {
      "text/plain": [
       "UniqueID               0\n",
       "ParcelID               0\n",
       "LandUse                0\n",
       "PropertyAddress       29\n",
       "SaleDate               0\n",
       "Sale Price             0\n",
       "LegalReference         0\n",
       "SoldAsVacant           0\n",
       "OwnerName          31216\n",
       "OwnerAddress       30462\n",
       "Acreage                0\n",
       "TaxDistrict        30462\n",
       "LandValue              0\n",
       "BuildingValue          0\n",
       "TotalValue             0\n",
       "YearBuilt          32314\n",
       "Bedrooms               0\n",
       "FullBath               0\n",
       "HalfBath               0\n",
       "SalePrice              0\n",
       "dtype: int64"
      ]
     },
     "execution_count": 32,
     "metadata": {},
     "output_type": "execute_result"
    }
   ],
   "source": [
    "#checking if null values has been imputed with values\n",
    "df.isna().sum()"
   ]
  },
  {
   "cell_type": "code",
   "execution_count": 33,
   "id": "a8f1d439",
   "metadata": {},
   "outputs": [
    {
     "data": {
      "text/plain": [
       "0        3\n",
       "1        3\n",
       "2        4\n",
       "3        3\n",
       "4        4\n",
       "        ..\n",
       "56472    3\n",
       "56473    3\n",
       "56474    3\n",
       "56475    3\n",
       "56476    3\n",
       "Name: Bedrooms, Length: 56477, dtype: int32"
      ]
     },
     "execution_count": 33,
     "metadata": {},
     "output_type": "execute_result"
    }
   ],
   "source": [
    "df['Bedrooms'] = df['Bedrooms'].astype(int)\n",
    "df['Bedrooms']"
   ]
  },
  {
   "cell_type": "code",
   "execution_count": 34,
   "id": "ba7e1e57",
   "metadata": {},
   "outputs": [
    {
     "name": "stdout",
     "output_type": "stream",
     "text": [
      "<class 'pandas.core.frame.DataFrame'>\n",
      "RangeIndex: 56477 entries, 0 to 56476\n",
      "Data columns (total 20 columns):\n",
      " #   Column           Non-Null Count  Dtype  \n",
      "---  ------           --------------  -----  \n",
      " 0   UniqueID         56477 non-null  int64  \n",
      " 1   ParcelID         56477 non-null  object \n",
      " 2   LandUse          56477 non-null  object \n",
      " 3   PropertyAddress  56448 non-null  object \n",
      " 4   SaleDate         56477 non-null  object \n",
      " 5   Sale Price       56477 non-null  object \n",
      " 6   LegalReference   56477 non-null  object \n",
      " 7   SoldAsVacant     56477 non-null  object \n",
      " 8   OwnerName        25261 non-null  object \n",
      " 9   OwnerAddress     26015 non-null  object \n",
      " 10  Acreage          56477 non-null  float64\n",
      " 11  TaxDistrict      26015 non-null  object \n",
      " 12  LandValue        56477 non-null  float64\n",
      " 13  BuildingValue    56477 non-null  float64\n",
      " 14  TotalValue       56477 non-null  float64\n",
      " 15  YearBuilt        24163 non-null  float64\n",
      " 16  Bedrooms         56477 non-null  int32  \n",
      " 17  FullBath         56477 non-null  float64\n",
      " 18  HalfBath         56477 non-null  float64\n",
      " 19  SalePrice        56477 non-null  float64\n",
      "dtypes: float64(8), int32(1), int64(1), object(10)\n",
      "memory usage: 8.4+ MB\n"
     ]
    }
   ],
   "source": [
    "#checking info if dtypes have changed\n",
    "df.info()"
   ]
  },
  {
   "cell_type": "code",
   "execution_count": 35,
   "id": "eaf09673",
   "metadata": {},
   "outputs": [],
   "source": [
    "#dropping columns we don't need at all\n",
    "df = df.drop(columns = ['OwnerName', 'OwnerAddress', 'TaxDistrict', 'YearBuilt'])"
   ]
  },
  {
   "cell_type": "code",
   "execution_count": 36,
   "id": "0d38c28d",
   "metadata": {},
   "outputs": [
    {
     "data": {
      "text/html": [
       "<div>\n",
       "<style scoped>\n",
       "    .dataframe tbody tr th:only-of-type {\n",
       "        vertical-align: middle;\n",
       "    }\n",
       "\n",
       "    .dataframe tbody tr th {\n",
       "        vertical-align: top;\n",
       "    }\n",
       "\n",
       "    .dataframe thead th {\n",
       "        text-align: right;\n",
       "    }\n",
       "</style>\n",
       "<table border=\"1\" class=\"dataframe\">\n",
       "  <thead>\n",
       "    <tr style=\"text-align: right;\">\n",
       "      <th></th>\n",
       "      <th>UniqueID</th>\n",
       "      <th>ParcelID</th>\n",
       "      <th>LandUse</th>\n",
       "      <th>PropertyAddress</th>\n",
       "      <th>SaleDate</th>\n",
       "      <th>Sale Price</th>\n",
       "      <th>LegalReference</th>\n",
       "      <th>SoldAsVacant</th>\n",
       "      <th>Acreage</th>\n",
       "      <th>LandValue</th>\n",
       "      <th>BuildingValue</th>\n",
       "      <th>TotalValue</th>\n",
       "      <th>Bedrooms</th>\n",
       "      <th>FullBath</th>\n",
       "      <th>HalfBath</th>\n",
       "      <th>SalePrice</th>\n",
       "    </tr>\n",
       "  </thead>\n",
       "  <tbody>\n",
       "    <tr>\n",
       "      <th>0</th>\n",
       "      <td>2045</td>\n",
       "      <td>007 00 0 125.00</td>\n",
       "      <td>SINGLE FAMILY</td>\n",
       "      <td>1808  FOX CHASE DR, GOODLETTSVILLE</td>\n",
       "      <td>9-Apr-13</td>\n",
       "      <td>240000</td>\n",
       "      <td>20130412-0036474</td>\n",
       "      <td>No</td>\n",
       "      <td>2.3</td>\n",
       "      <td>50000.0</td>\n",
       "      <td>168200.0</td>\n",
       "      <td>235700.0</td>\n",
       "      <td>3</td>\n",
       "      <td>3.0</td>\n",
       "      <td>0.0</td>\n",
       "      <td>240000.0</td>\n",
       "    </tr>\n",
       "    <tr>\n",
       "      <th>1</th>\n",
       "      <td>16918</td>\n",
       "      <td>007 00 0 130.00</td>\n",
       "      <td>SINGLE FAMILY</td>\n",
       "      <td>1832  FOX CHASE DR, GOODLETTSVILLE</td>\n",
       "      <td>10-Jun-14</td>\n",
       "      <td>366000</td>\n",
       "      <td>20140619-0053768</td>\n",
       "      <td>No</td>\n",
       "      <td>3.5</td>\n",
       "      <td>50000.0</td>\n",
       "      <td>264100.0</td>\n",
       "      <td>319000.0</td>\n",
       "      <td>3</td>\n",
       "      <td>3.0</td>\n",
       "      <td>2.0</td>\n",
       "      <td>366000.0</td>\n",
       "    </tr>\n",
       "    <tr>\n",
       "      <th>2</th>\n",
       "      <td>54582</td>\n",
       "      <td>007 00 0 138.00</td>\n",
       "      <td>SINGLE FAMILY</td>\n",
       "      <td>1864 FOX CHASE  DR, GOODLETTSVILLE</td>\n",
       "      <td>26-Sep-16</td>\n",
       "      <td>435000</td>\n",
       "      <td>20160927-0101718</td>\n",
       "      <td>No</td>\n",
       "      <td>2.9</td>\n",
       "      <td>50000.0</td>\n",
       "      <td>216200.0</td>\n",
       "      <td>298000.0</td>\n",
       "      <td>4</td>\n",
       "      <td>3.0</td>\n",
       "      <td>0.0</td>\n",
       "      <td>435000.0</td>\n",
       "    </tr>\n",
       "  </tbody>\n",
       "</table>\n",
       "</div>"
      ],
      "text/plain": [
       "   UniqueID          ParcelID        LandUse  \\\n",
       "0       2045  007 00 0 125.00  SINGLE FAMILY   \n",
       "1      16918  007 00 0 130.00  SINGLE FAMILY   \n",
       "2      54582  007 00 0 138.00  SINGLE FAMILY   \n",
       "\n",
       "                      PropertyAddress   SaleDate Sale Price    LegalReference  \\\n",
       "0  1808  FOX CHASE DR, GOODLETTSVILLE   9-Apr-13     240000  20130412-0036474   \n",
       "1  1832  FOX CHASE DR, GOODLETTSVILLE  10-Jun-14     366000  20140619-0053768   \n",
       "2  1864 FOX CHASE  DR, GOODLETTSVILLE  26-Sep-16     435000  20160927-0101718   \n",
       "\n",
       "  SoldAsVacant  Acreage  LandValue  BuildingValue  TotalValue  Bedrooms  \\\n",
       "0           No      2.3    50000.0       168200.0    235700.0         3   \n",
       "1           No      3.5    50000.0       264100.0    319000.0         3   \n",
       "2           No      2.9    50000.0       216200.0    298000.0         4   \n",
       "\n",
       "   FullBath  HalfBath  SalePrice  \n",
       "0       3.0       0.0   240000.0  \n",
       "1       3.0       2.0   366000.0  \n",
       "2       3.0       0.0   435000.0  "
      ]
     },
     "execution_count": 36,
     "metadata": {},
     "output_type": "execute_result"
    }
   ],
   "source": [
    "#previewing data\n",
    "df.head(3)"
   ]
  },
  {
   "cell_type": "code",
   "execution_count": 37,
   "id": "81cf1f45",
   "metadata": {},
   "outputs": [
    {
     "data": {
      "text/plain": [
       "array(['N', 'Y'], dtype=object)"
      ]
     },
     "execution_count": 37,
     "metadata": {},
     "output_type": "execute_result"
    }
   ],
   "source": [
    "#replace No with N and Yes with Y\n",
    "df['SoldAsVacant'] = df['SoldAsVacant'].replace('No', 'N')\n",
    "df['SoldAsVacant'] = df['SoldAsVacant'].replace('Yes', 'Y')\n",
    "df['SoldAsVacant'].unique()"
   ]
  },
  {
   "cell_type": "code",
   "execution_count": 38,
   "id": "4aec0b42",
   "metadata": {},
   "outputs": [
    {
     "data": {
      "text/html": [
       "<div>\n",
       "<style scoped>\n",
       "    .dataframe tbody tr th:only-of-type {\n",
       "        vertical-align: middle;\n",
       "    }\n",
       "\n",
       "    .dataframe tbody tr th {\n",
       "        vertical-align: top;\n",
       "    }\n",
       "\n",
       "    .dataframe thead th {\n",
       "        text-align: right;\n",
       "    }\n",
       "</style>\n",
       "<table border=\"1\" class=\"dataframe\">\n",
       "  <thead>\n",
       "    <tr style=\"text-align: right;\">\n",
       "      <th></th>\n",
       "      <th>N</th>\n",
       "      <th>Y</th>\n",
       "    </tr>\n",
       "  </thead>\n",
       "  <tbody>\n",
       "    <tr>\n",
       "      <th>0</th>\n",
       "      <td>1</td>\n",
       "      <td>0</td>\n",
       "    </tr>\n",
       "    <tr>\n",
       "      <th>1</th>\n",
       "      <td>1</td>\n",
       "      <td>0</td>\n",
       "    </tr>\n",
       "    <tr>\n",
       "      <th>2</th>\n",
       "      <td>1</td>\n",
       "      <td>0</td>\n",
       "    </tr>\n",
       "    <tr>\n",
       "      <th>3</th>\n",
       "      <td>1</td>\n",
       "      <td>0</td>\n",
       "    </tr>\n",
       "  </tbody>\n",
       "</table>\n",
       "</div>"
      ],
      "text/plain": [
       "   N  Y\n",
       "0  1  0\n",
       "1  1  0\n",
       "2  1  0\n",
       "3  1  0"
      ]
     },
     "execution_count": 38,
     "metadata": {},
     "output_type": "execute_result"
    }
   ],
   "source": [
    "# Encode SoldAsVacant column using One-hot encoding\n",
    "data_encoded = pd.get_dummies(df['SoldAsVacant'])\n",
    "data_encoded.head(4)"
   ]
  },
  {
   "cell_type": "code",
   "execution_count": 39,
   "id": "5934dd09",
   "metadata": {},
   "outputs": [
    {
     "data": {
      "text/html": [
       "<div>\n",
       "<style scoped>\n",
       "    .dataframe tbody tr th:only-of-type {\n",
       "        vertical-align: middle;\n",
       "    }\n",
       "\n",
       "    .dataframe tbody tr th {\n",
       "        vertical-align: top;\n",
       "    }\n",
       "\n",
       "    .dataframe thead th {\n",
       "        text-align: right;\n",
       "    }\n",
       "</style>\n",
       "<table border=\"1\" class=\"dataframe\">\n",
       "  <thead>\n",
       "    <tr style=\"text-align: right;\">\n",
       "      <th></th>\n",
       "      <th>UniqueID</th>\n",
       "      <th>ParcelID</th>\n",
       "      <th>LandUse</th>\n",
       "      <th>PropertyAddress</th>\n",
       "      <th>SaleDate</th>\n",
       "      <th>Sale Price</th>\n",
       "      <th>LegalReference</th>\n",
       "      <th>Acreage</th>\n",
       "      <th>LandValue</th>\n",
       "      <th>BuildingValue</th>\n",
       "      <th>TotalValue</th>\n",
       "      <th>Bedrooms</th>\n",
       "      <th>FullBath</th>\n",
       "      <th>HalfBath</th>\n",
       "      <th>SalePrice</th>\n",
       "      <th>N</th>\n",
       "      <th>Y</th>\n",
       "    </tr>\n",
       "  </thead>\n",
       "  <tbody>\n",
       "    <tr>\n",
       "      <th>0</th>\n",
       "      <td>2045</td>\n",
       "      <td>007 00 0 125.00</td>\n",
       "      <td>SINGLE FAMILY</td>\n",
       "      <td>1808  FOX CHASE DR, GOODLETTSVILLE</td>\n",
       "      <td>9-Apr-13</td>\n",
       "      <td>240000</td>\n",
       "      <td>20130412-0036474</td>\n",
       "      <td>2.3</td>\n",
       "      <td>50000.0</td>\n",
       "      <td>168200.0</td>\n",
       "      <td>235700.0</td>\n",
       "      <td>3</td>\n",
       "      <td>3.0</td>\n",
       "      <td>0.0</td>\n",
       "      <td>240000.0</td>\n",
       "      <td>1</td>\n",
       "      <td>0</td>\n",
       "    </tr>\n",
       "    <tr>\n",
       "      <th>1</th>\n",
       "      <td>16918</td>\n",
       "      <td>007 00 0 130.00</td>\n",
       "      <td>SINGLE FAMILY</td>\n",
       "      <td>1832  FOX CHASE DR, GOODLETTSVILLE</td>\n",
       "      <td>10-Jun-14</td>\n",
       "      <td>366000</td>\n",
       "      <td>20140619-0053768</td>\n",
       "      <td>3.5</td>\n",
       "      <td>50000.0</td>\n",
       "      <td>264100.0</td>\n",
       "      <td>319000.0</td>\n",
       "      <td>3</td>\n",
       "      <td>3.0</td>\n",
       "      <td>2.0</td>\n",
       "      <td>366000.0</td>\n",
       "      <td>1</td>\n",
       "      <td>0</td>\n",
       "    </tr>\n",
       "    <tr>\n",
       "      <th>2</th>\n",
       "      <td>54582</td>\n",
       "      <td>007 00 0 138.00</td>\n",
       "      <td>SINGLE FAMILY</td>\n",
       "      <td>1864 FOX CHASE  DR, GOODLETTSVILLE</td>\n",
       "      <td>26-Sep-16</td>\n",
       "      <td>435000</td>\n",
       "      <td>20160927-0101718</td>\n",
       "      <td>2.9</td>\n",
       "      <td>50000.0</td>\n",
       "      <td>216200.0</td>\n",
       "      <td>298000.0</td>\n",
       "      <td>4</td>\n",
       "      <td>3.0</td>\n",
       "      <td>0.0</td>\n",
       "      <td>435000.0</td>\n",
       "      <td>1</td>\n",
       "      <td>0</td>\n",
       "    </tr>\n",
       "  </tbody>\n",
       "</table>\n",
       "</div>"
      ],
      "text/plain": [
       "   UniqueID          ParcelID        LandUse  \\\n",
       "0       2045  007 00 0 125.00  SINGLE FAMILY   \n",
       "1      16918  007 00 0 130.00  SINGLE FAMILY   \n",
       "2      54582  007 00 0 138.00  SINGLE FAMILY   \n",
       "\n",
       "                      PropertyAddress   SaleDate Sale Price    LegalReference  \\\n",
       "0  1808  FOX CHASE DR, GOODLETTSVILLE   9-Apr-13     240000  20130412-0036474   \n",
       "1  1832  FOX CHASE DR, GOODLETTSVILLE  10-Jun-14     366000  20140619-0053768   \n",
       "2  1864 FOX CHASE  DR, GOODLETTSVILLE  26-Sep-16     435000  20160927-0101718   \n",
       "\n",
       "   Acreage  LandValue  BuildingValue  TotalValue  Bedrooms  FullBath  \\\n",
       "0      2.3    50000.0       168200.0    235700.0         3       3.0   \n",
       "1      3.5    50000.0       264100.0    319000.0         3       3.0   \n",
       "2      2.9    50000.0       216200.0    298000.0         4       3.0   \n",
       "\n",
       "   HalfBath  SalePrice  N  Y  \n",
       "0       0.0   240000.0  1  0  \n",
       "1       2.0   366000.0  1  0  \n",
       "2       0.0   435000.0  1  0  "
      ]
     },
     "execution_count": 39,
     "metadata": {},
     "output_type": "execute_result"
    }
   ],
   "source": [
    "#join data_encoded to main df and drop SoldAsVacant column\n",
    "data = pd.concat((df, data_encoded), axis = 1)\n",
    "data = data.drop(['SoldAsVacant'], axis = 1)\n",
    "data.head(3)"
   ]
  },
  {
   "cell_type": "code",
   "execution_count": 40,
   "id": "25071a64",
   "metadata": {},
   "outputs": [],
   "source": [
    "#After encoding No was 1 instead so must be interchanged to No = 0, Yes = 1\n",
    "data1 = data.drop(['N'], axis = 1)    # saving variable as data1\n",
    "data1['Y'] = data1['Y'].replace(1, 2) #temporal\n",
    "data1['Y'] = data1['Y'].replace(0, 1) #making yes = 1\n",
    "data1['Y'] = data1['Y'].replace(2, 0)  #making no = 0\n",
    "\n",
    "\n",
    "#saving column as the original SoldAsVacant\n",
    "data1['SoldAsVacant'] = data1['Y']"
   ]
  },
  {
   "cell_type": "code",
   "execution_count": 41,
   "id": "4270cd2a",
   "metadata": {},
   "outputs": [
    {
     "data": {
      "text/html": [
       "<div>\n",
       "<style scoped>\n",
       "    .dataframe tbody tr th:only-of-type {\n",
       "        vertical-align: middle;\n",
       "    }\n",
       "\n",
       "    .dataframe tbody tr th {\n",
       "        vertical-align: top;\n",
       "    }\n",
       "\n",
       "    .dataframe thead th {\n",
       "        text-align: right;\n",
       "    }\n",
       "</style>\n",
       "<table border=\"1\" class=\"dataframe\">\n",
       "  <thead>\n",
       "    <tr style=\"text-align: right;\">\n",
       "      <th></th>\n",
       "      <th>UniqueID</th>\n",
       "      <th>ParcelID</th>\n",
       "      <th>LandUse</th>\n",
       "      <th>PropertyAddress</th>\n",
       "      <th>SaleDate</th>\n",
       "      <th>Sale Price</th>\n",
       "      <th>LegalReference</th>\n",
       "      <th>Acreage</th>\n",
       "      <th>LandValue</th>\n",
       "      <th>BuildingValue</th>\n",
       "      <th>TotalValue</th>\n",
       "      <th>Bedrooms</th>\n",
       "      <th>FullBath</th>\n",
       "      <th>HalfBath</th>\n",
       "      <th>SalePrice</th>\n",
       "      <th>SoldAsVacant</th>\n",
       "    </tr>\n",
       "  </thead>\n",
       "  <tbody>\n",
       "    <tr>\n",
       "      <th>0</th>\n",
       "      <td>2045</td>\n",
       "      <td>007 00 0 125.00</td>\n",
       "      <td>SINGLE FAMILY</td>\n",
       "      <td>1808  FOX CHASE DR, GOODLETTSVILLE</td>\n",
       "      <td>9-Apr-13</td>\n",
       "      <td>240000</td>\n",
       "      <td>20130412-0036474</td>\n",
       "      <td>2.3</td>\n",
       "      <td>50000.0</td>\n",
       "      <td>168200.0</td>\n",
       "      <td>235700.0</td>\n",
       "      <td>3</td>\n",
       "      <td>3.0</td>\n",
       "      <td>0.0</td>\n",
       "      <td>240000.0</td>\n",
       "      <td>1</td>\n",
       "    </tr>\n",
       "    <tr>\n",
       "      <th>1</th>\n",
       "      <td>16918</td>\n",
       "      <td>007 00 0 130.00</td>\n",
       "      <td>SINGLE FAMILY</td>\n",
       "      <td>1832  FOX CHASE DR, GOODLETTSVILLE</td>\n",
       "      <td>10-Jun-14</td>\n",
       "      <td>366000</td>\n",
       "      <td>20140619-0053768</td>\n",
       "      <td>3.5</td>\n",
       "      <td>50000.0</td>\n",
       "      <td>264100.0</td>\n",
       "      <td>319000.0</td>\n",
       "      <td>3</td>\n",
       "      <td>3.0</td>\n",
       "      <td>2.0</td>\n",
       "      <td>366000.0</td>\n",
       "      <td>1</td>\n",
       "    </tr>\n",
       "  </tbody>\n",
       "</table>\n",
       "</div>"
      ],
      "text/plain": [
       "   UniqueID          ParcelID        LandUse  \\\n",
       "0       2045  007 00 0 125.00  SINGLE FAMILY   \n",
       "1      16918  007 00 0 130.00  SINGLE FAMILY   \n",
       "\n",
       "                      PropertyAddress   SaleDate Sale Price    LegalReference  \\\n",
       "0  1808  FOX CHASE DR, GOODLETTSVILLE   9-Apr-13     240000  20130412-0036474   \n",
       "1  1832  FOX CHASE DR, GOODLETTSVILLE  10-Jun-14     366000  20140619-0053768   \n",
       "\n",
       "   Acreage  LandValue  BuildingValue  TotalValue  Bedrooms  FullBath  \\\n",
       "0      2.3    50000.0       168200.0    235700.0         3       3.0   \n",
       "1      3.5    50000.0       264100.0    319000.0         3       3.0   \n",
       "\n",
       "   HalfBath  SalePrice  SoldAsVacant  \n",
       "0       0.0   240000.0             1  \n",
       "1       2.0   366000.0             1  "
      ]
     },
     "execution_count": 41,
     "metadata": {},
     "output_type": "execute_result"
    }
   ],
   "source": [
    "#drop the comlumn Y\n",
    "data1 = data1.drop(['Y'], axis = 1)\n",
    "data1.head(2)"
   ]
  },
  {
   "cell_type": "markdown",
   "id": "2ea483a0",
   "metadata": {},
   "source": [
    "To bulid a model, we do not need nulls in our dataset. So, select only relevant columns and check before buliding model.\n",
    "\n",
    "#### Building a predictive model"
   ]
  },
  {
   "cell_type": "code",
   "execution_count": 42,
   "id": "dae721f1",
   "metadata": {},
   "outputs": [],
   "source": [
    "#client specified the features he wants. i.e: SoldAsVacant and Bedrooms with target variable, LandUse\n",
    "X = data1[['SoldAsVacant', 'Bedrooms']]\n",
    "y = data1['LandUse']"
   ]
  },
  {
   "cell_type": "code",
   "execution_count": 43,
   "id": "bb17902d",
   "metadata": {},
   "outputs": [
    {
     "name": "stdout",
     "output_type": "stream",
     "text": [
      "SoldAsVacant    0\n",
      "Bedrooms        0\n",
      "dtype: int64\n",
      "0\n"
     ]
    }
   ],
   "source": [
    "#both X and Y have no nulls\n",
    "print(X.isnull().sum())\n",
    "print(y.isnull().sum())"
   ]
  },
  {
   "cell_type": "code",
   "execution_count": 44,
   "id": "f6b7f8ec",
   "metadata": {},
   "outputs": [
    {
     "data": {
      "text/html": [
       "<div>\n",
       "<style scoped>\n",
       "    .dataframe tbody tr th:only-of-type {\n",
       "        vertical-align: middle;\n",
       "    }\n",
       "\n",
       "    .dataframe tbody tr th {\n",
       "        vertical-align: top;\n",
       "    }\n",
       "\n",
       "    .dataframe thead th {\n",
       "        text-align: right;\n",
       "    }\n",
       "</style>\n",
       "<table border=\"1\" class=\"dataframe\">\n",
       "  <thead>\n",
       "    <tr style=\"text-align: right;\">\n",
       "      <th></th>\n",
       "      <th>SoldAsVacant</th>\n",
       "      <th>Bedrooms</th>\n",
       "    </tr>\n",
       "  </thead>\n",
       "  <tbody>\n",
       "    <tr>\n",
       "      <th>0</th>\n",
       "      <td>1</td>\n",
       "      <td>3</td>\n",
       "    </tr>\n",
       "    <tr>\n",
       "      <th>1</th>\n",
       "      <td>1</td>\n",
       "      <td>3</td>\n",
       "    </tr>\n",
       "    <tr>\n",
       "      <th>2</th>\n",
       "      <td>1</td>\n",
       "      <td>4</td>\n",
       "    </tr>\n",
       "    <tr>\n",
       "      <th>3</th>\n",
       "      <td>1</td>\n",
       "      <td>3</td>\n",
       "    </tr>\n",
       "    <tr>\n",
       "      <th>4</th>\n",
       "      <td>1</td>\n",
       "      <td>4</td>\n",
       "    </tr>\n",
       "    <tr>\n",
       "      <th>...</th>\n",
       "      <td>...</td>\n",
       "      <td>...</td>\n",
       "    </tr>\n",
       "    <tr>\n",
       "      <th>56472</th>\n",
       "      <td>1</td>\n",
       "      <td>3</td>\n",
       "    </tr>\n",
       "    <tr>\n",
       "      <th>56473</th>\n",
       "      <td>1</td>\n",
       "      <td>3</td>\n",
       "    </tr>\n",
       "    <tr>\n",
       "      <th>56474</th>\n",
       "      <td>0</td>\n",
       "      <td>3</td>\n",
       "    </tr>\n",
       "    <tr>\n",
       "      <th>56475</th>\n",
       "      <td>0</td>\n",
       "      <td>3</td>\n",
       "    </tr>\n",
       "    <tr>\n",
       "      <th>56476</th>\n",
       "      <td>0</td>\n",
       "      <td>3</td>\n",
       "    </tr>\n",
       "  </tbody>\n",
       "</table>\n",
       "<p>56477 rows × 2 columns</p>\n",
       "</div>"
      ],
      "text/plain": [
       "       SoldAsVacant  Bedrooms\n",
       "0                 1         3\n",
       "1                 1         3\n",
       "2                 1         4\n",
       "3                 1         3\n",
       "4                 1         4\n",
       "...             ...       ...\n",
       "56472             1         3\n",
       "56473             1         3\n",
       "56474             0         3\n",
       "56475             0         3\n",
       "56476             0         3\n",
       "\n",
       "[56477 rows x 2 columns]"
      ]
     },
     "execution_count": 44,
     "metadata": {},
     "output_type": "execute_result"
    }
   ],
   "source": [
    "#checking input variable\n",
    "X"
   ]
  },
  {
   "cell_type": "code",
   "execution_count": 45,
   "id": "7784a25d",
   "metadata": {},
   "outputs": [],
   "source": [
    "#splitting our dataset into test and train variables for our model\n",
    "X_train, X_test, y_train, y_test = train_test_split(X, y, test_size = 0.2, random_state = 42)"
   ]
  },
  {
   "cell_type": "code",
   "execution_count": 46,
   "id": "6e22be33",
   "metadata": {},
   "outputs": [
    {
     "data": {
      "text/html": [
       "<style>#sk-container-id-1 {color: black;background-color: white;}#sk-container-id-1 pre{padding: 0;}#sk-container-id-1 div.sk-toggleable {background-color: white;}#sk-container-id-1 label.sk-toggleable__label {cursor: pointer;display: block;width: 100%;margin-bottom: 0;padding: 0.3em;box-sizing: border-box;text-align: center;}#sk-container-id-1 label.sk-toggleable__label-arrow:before {content: \"▸\";float: left;margin-right: 0.25em;color: #696969;}#sk-container-id-1 label.sk-toggleable__label-arrow:hover:before {color: black;}#sk-container-id-1 div.sk-estimator:hover label.sk-toggleable__label-arrow:before {color: black;}#sk-container-id-1 div.sk-toggleable__content {max-height: 0;max-width: 0;overflow: hidden;text-align: left;background-color: #f0f8ff;}#sk-container-id-1 div.sk-toggleable__content pre {margin: 0.2em;color: black;border-radius: 0.25em;background-color: #f0f8ff;}#sk-container-id-1 input.sk-toggleable__control:checked~div.sk-toggleable__content {max-height: 200px;max-width: 100%;overflow: auto;}#sk-container-id-1 input.sk-toggleable__control:checked~label.sk-toggleable__label-arrow:before {content: \"▾\";}#sk-container-id-1 div.sk-estimator input.sk-toggleable__control:checked~label.sk-toggleable__label {background-color: #d4ebff;}#sk-container-id-1 div.sk-label input.sk-toggleable__control:checked~label.sk-toggleable__label {background-color: #d4ebff;}#sk-container-id-1 input.sk-hidden--visually {border: 0;clip: rect(1px 1px 1px 1px);clip: rect(1px, 1px, 1px, 1px);height: 1px;margin: -1px;overflow: hidden;padding: 0;position: absolute;width: 1px;}#sk-container-id-1 div.sk-estimator {font-family: monospace;background-color: #f0f8ff;border: 1px dotted black;border-radius: 0.25em;box-sizing: border-box;margin-bottom: 0.5em;}#sk-container-id-1 div.sk-estimator:hover {background-color: #d4ebff;}#sk-container-id-1 div.sk-parallel-item::after {content: \"\";width: 100%;border-bottom: 1px solid gray;flex-grow: 1;}#sk-container-id-1 div.sk-label:hover label.sk-toggleable__label {background-color: #d4ebff;}#sk-container-id-1 div.sk-serial::before {content: \"\";position: absolute;border-left: 1px solid gray;box-sizing: border-box;top: 0;bottom: 0;left: 50%;z-index: 0;}#sk-container-id-1 div.sk-serial {display: flex;flex-direction: column;align-items: center;background-color: white;padding-right: 0.2em;padding-left: 0.2em;position: relative;}#sk-container-id-1 div.sk-item {position: relative;z-index: 1;}#sk-container-id-1 div.sk-parallel {display: flex;align-items: stretch;justify-content: center;background-color: white;position: relative;}#sk-container-id-1 div.sk-item::before, #sk-container-id-1 div.sk-parallel-item::before {content: \"\";position: absolute;border-left: 1px solid gray;box-sizing: border-box;top: 0;bottom: 0;left: 50%;z-index: -1;}#sk-container-id-1 div.sk-parallel-item {display: flex;flex-direction: column;z-index: 1;position: relative;background-color: white;}#sk-container-id-1 div.sk-parallel-item:first-child::after {align-self: flex-end;width: 50%;}#sk-container-id-1 div.sk-parallel-item:last-child::after {align-self: flex-start;width: 50%;}#sk-container-id-1 div.sk-parallel-item:only-child::after {width: 0;}#sk-container-id-1 div.sk-dashed-wrapped {border: 1px dashed gray;margin: 0 0.4em 0.5em 0.4em;box-sizing: border-box;padding-bottom: 0.4em;background-color: white;}#sk-container-id-1 div.sk-label label {font-family: monospace;font-weight: bold;display: inline-block;line-height: 1.2em;}#sk-container-id-1 div.sk-label-container {text-align: center;}#sk-container-id-1 div.sk-container {/* jupyter's `normalize.less` sets `[hidden] { display: none; }` but bootstrap.min.css set `[hidden] { display: none !important; }` so we also need the `!important` here to be able to override the default hidden behavior on the sphinx rendered scikit-learn.org. See: https://github.com/scikit-learn/scikit-learn/issues/21755 */display: inline-block !important;position: relative;}#sk-container-id-1 div.sk-text-repr-fallback {display: none;}</style><div id=\"sk-container-id-1\" class=\"sk-top-container\"><div class=\"sk-text-repr-fallback\"><pre>DecisionTreeClassifier()</pre><b>In a Jupyter environment, please rerun this cell to show the HTML representation or trust the notebook. <br />On GitHub, the HTML representation is unable to render, please try loading this page with nbviewer.org.</b></div><div class=\"sk-container\" hidden><div class=\"sk-item\"><div class=\"sk-estimator sk-toggleable\"><input class=\"sk-toggleable__control sk-hidden--visually\" id=\"sk-estimator-id-1\" type=\"checkbox\" checked><label for=\"sk-estimator-id-1\" class=\"sk-toggleable__label sk-toggleable__label-arrow\">DecisionTreeClassifier</label><div class=\"sk-toggleable__content\"><pre>DecisionTreeClassifier()</pre></div></div></div></div></div>"
      ],
      "text/plain": [
       "DecisionTreeClassifier()"
      ]
     },
     "execution_count": 46,
     "metadata": {},
     "output_type": "execute_result"
    }
   ],
   "source": [
    "#training our data\n",
    "model = DecisionTreeClassifier()\n",
    "model.fit(X_train, y_train)"
   ]
  },
  {
   "cell_type": "code",
   "execution_count": 47,
   "id": "d2031252",
   "metadata": {},
   "outputs": [
    {
     "data": {
      "text/plain": [
       "array(['SINGLE FAMILY', 'SINGLE FAMILY', 'SINGLE FAMILY', ...,\n",
       "       'SINGLE FAMILY', 'SINGLE FAMILY', 'SINGLE FAMILY'], dtype=object)"
      ]
     },
     "execution_count": 47,
     "metadata": {},
     "output_type": "execute_result"
    }
   ],
   "source": [
    "#making predictions with our test data\n",
    "predictions = model.predict(X_test)\n",
    "predictions"
   ]
  },
  {
   "cell_type": "markdown",
   "id": "c069c560",
   "metadata": {},
   "source": [
    "### Evaluating The model"
   ]
  },
  {
   "cell_type": "code",
   "execution_count": 48,
   "id": "b070abb1",
   "metadata": {},
   "outputs": [
    {
     "data": {
      "text/plain": [
       "0.6467776203966006"
      ]
     },
     "execution_count": 48,
     "metadata": {},
     "output_type": "execute_result"
    }
   ],
   "source": [
    "#checking for accuracy\n",
    "from sklearn.metrics import accuracy_score\n",
    "score = accuracy_score(y_test, predictions)\n",
    "score     # 64% accuracy"
   ]
  },
  {
   "cell_type": "code",
   "execution_count": 49,
   "id": "5462da89",
   "metadata": {},
   "outputs": [
    {
     "data": {
      "image/png": "[encoded data removed]",
      "text/plain": [
       "<Figure size 1200x800 with 1 Axes>"
      ]
     },
     "metadata": {},
     "output_type": "display_data"
    }
   ],
   "source": [
    "#let's visaualize our data model\n",
    "clf = DecisionTreeClassifier(max_depth=3, random_state=0)\n",
    "clf.fit(X_train, y_train)\n",
    "\n",
    "# Plot the tree\n",
    "plt.figure(figsize=(12, 8))\n",
    "plot_tree(clf, filled=True, \n",
    "          feature_names=['SoldAsVacant', 'Bedrooms'], \n",
    "          class_names= sorted(y.unique()),\n",
    "          label = 'all',)\n",
    "plt.show()"
   ]
  },
  {
   "cell_type": "code",
   "execution_count": 50,
   "id": "3f7cc666",
   "metadata": {},
   "outputs": [
    {
     "data": {
      "text/plain": [
       "array(['QUADPLEX'], dtype=object)"
      ]
     },
     "execution_count": 50,
     "metadata": {},
     "output_type": "execute_result"
    }
   ],
   "source": [
    "#predicting land use for a propective resident who wants a land sold as vacant and bedroom as 8\n",
    "predictions = model.predict([[1, 8]])   #sold as vacant is yes, bedrooms is 8\n",
    "predictions"
   ]
  }
 ],
 "metadata": {
  "kernelspec": {
   "display_name": "Python 3 (ipykernel)",
   "language": "python",
   "name": "python3"
  },
  "language_info": {
   "codemirror_mode": {
    "name": "ipython",
    "version": 3
   },
   "file_extension": ".py",
   "mimetype": "text/x-python",
   "name": "python",
   "nbconvert_exporter": "python",
   "pygments_lexer": "ipython3",
   "version": "3.10.9"
  }
 },
 "nbformat": 4,
 "nbformat_minor": 5
}
